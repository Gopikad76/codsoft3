{
  "nbformat": 4,
  "nbformat_minor": 0,
  "metadata": {
    "colab": {
      "provenance": [],
      "authorship_tag": "ABX9TyMeKHLsDMPsYwdaEmopQl0U",
      "include_colab_link": true
    },
    "kernelspec": {
      "name": "python3",
      "display_name": "Python 3"
    },
    "language_info": {
      "name": "python"
    }
  },
  "cells": [
    {
      "cell_type": "markdown",
      "metadata": {
        "id": "view-in-github",
        "colab_type": "text"
      },
      "source": [
        "<a href=\"https://colab.research.google.com/github/Gopikad76/codsoft3/blob/main/codesoft3.ipynb\" target=\"_parent\"><img src=\"https://colab.research.google.com/assets/colab-badge.svg\" alt=\"Open In Colab\"/></a>"
      ]
    },
    {
      "cell_type": "code",
      "source": [
        "import numpy as np\n",
        "\n",
        "class CollaborativeFilteringRecommendationSystem:\n",
        "    def __init__(self, num_users, num_items):\n",
        "        self.num_users = num_users\n",
        "        self.num_items = num_items\n",
        "        self.user_item_matrix = np.zeros((num_users, num_items))\n",
        "\n",
        "    def add_rating(self, user, item, rating):\n",
        "        self.user_item_matrix[user, item] = rating\n",
        "\n",
        "    def recommend_items(self, user):\n",
        "        # Calculate similarity between the given user and all other users\n",
        "        similarities = np.dot(self.user_item_matrix, self.user_item_matrix[user]) / (\n",
        "            np.linalg.norm(self.user_item_matrix, axis=1) * np.linalg.norm(self.user_item_matrix[user])\n",
        "        )\n",
        "\n",
        "        # Sort users based on similarity in descending order\n",
        "        similar_users = np.argsort(similarities)[::-1]\n",
        "\n",
        "        # Find items that the user hasn't rated yet\n",
        "        unrated_items = np.where(self.user_item_matrix[user] == 0)[0]\n",
        "\n",
        "\n",
        "        recommendations = []\n",
        "        for item in unrated_items:\n",
        "            item_score = np.sum(self.user_item_matrix[similar_users, item] * similarities[similar_users])\n",
        "            recommendations.append((item, item_score))\n",
        "\n",
        "\n",
        "        sorted_recommendations = sorted(recommendations, key=lambda x: x[1], reverse=True)\n",
        "\n",
        "\n",
        "        recommended_items = [item for item, _ in sorted_recommendations]\n",
        "\n",
        "        return recommended_items\n",
        "\n",
        "# Example usage:\n",
        "\n",
        "# Create a recommendation system with 5 users and 10 items\n",
        "recommendation_system = CollaborativeFilteringRecommendationSystem(5, 10)\n",
        "\n",
        "# Add some ratings (user, item, rating)\n",
        "recommendation_system.add_rating(0, 0, 5)\n",
        "recommendation_system.add_rating(0, 1, 4)\n",
        "recommendation_system.add_rating(1, 1, 5)\n",
        "recommendation_system.add_rating(1, 2, 3)\n",
        "recommendation_system.add_rating(2, 2, 4)\n",
        "recommendation_system.add_rating(2, 3, 5)\n",
        "recommendation_system.add_rating(3, 3, 3)\n",
        "recommendation_system.add_rating(3, 4, 4)\n",
        "recommendation_system.add_rating(4, 4, 5)\n",
        "recommendation_system.add_rating(4, 5, 4)\n",
        "\n",
        "# Recommend items for user 0\n",
        "recommended_items = recommendation_system.recommend_items(0)\n",
        "\n",
        "# Display recommended items\n",
        "print(\"Recommended items for user 0:\", recommended_items)\n"
      ],
      "metadata": {
        "colab": {
          "base_uri": "https://localhost:8080/"
        },
        "id": "xm5ur4c2eyaP",
        "outputId": "085a95ee-c32e-4c9c-e21e-024f68b99de7"
      },
      "execution_count": 4,
      "outputs": [
        {
          "output_type": "stream",
          "name": "stdout",
          "text": [
            "Recommended items for user 0: [2, 3, 4, 5, 6, 7, 8, 9]\n"
          ]
        }
      ]
    }
  ]
}